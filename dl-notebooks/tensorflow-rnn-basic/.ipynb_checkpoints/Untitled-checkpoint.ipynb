{
 "cells": [
  {
   "cell_type": "markdown",
   "metadata": {},
   "source": [
    "# Build Recurrent Neural Networks from scratch using Tensorflow\n",
    "[Reference: Recurrent Neural Networks in Tensorflow from R2RT](http://r2rt.com/recurrent-neural-networks-in-tensorflow-i.html)"
   ]
  },
  {
   "cell_type": "markdown",
   "metadata": {},
   "source": [
    "## 1. Introduction"
   ]
  },
  {
   "cell_type": "markdown",
   "metadata": {},
   "source": [
    "In this notebook, we’ll be building a raw RNN that accepts a binary sequence X and uses it to predict a binary sequence Y. The sequences are constructed as follows:\n",
    "\n",
    "- Input sequence ($X$): At time step $t$, $X_t$ has a 50% chance of being 1 (and a 50% chance of being 0). E.g., $X$ might be $[1, 0, 0, 1, 1, 1 … ]$.\n",
    "\n",
    "- Output sequence ($Y$): At time step $t$, $Y_t$ has a base 50% chance of being 1 (and a 50% base chance to be 0). The chance of $Y_t$ being 1 is increased by 50% (i.e., to 100%) if $X_{t−3}$ is 1, and decreased by 25% (i.e., to 25%) if $X_{t−8}$ is 1. If both $X_{t−3}$ and $X_{t−8}$ are 1, the chance of $Y_t$ being 1 is 50% + 50% - 25% = 75%.\n",
    "\n",
    "| $X_{t-3}$| $X_{t-8}$| $p(X_{t-3}, X_{t-8})$| $p(Y_t=1 | X_{t-3}, X_{t-8})$ | correct prediction probability |\n",
    "| -------- |--------| -------- |:--------:| -------- |\n",
    "| 0   |  0  | 0.25 | 0.5  | 0.5  |\n",
    "| 1   |  0  | 0.25 | 1.0  | 1.0  |\n",
    "| 0   |  1  | 0.25 | 0.25  | 0.75  |\n",
    "| 1   |  1  | 0.25 | 0.75  | 0.75  |\n",
    "\n",
    "\n",
    "Thus, there are two dependencies in the data: one at $t-3$ (3 steps back) and one at $t-8$ (8 steps back).\n",
    "\n",
    "This data is simple enough that we can calculate the expected cross-entropy loss for a trained RNN depending on whether or not it learns the dependencies:\n",
    "\n",
    "- If the network learns no dependencies, it will correctly assign a probability of 62.5% to 1, for an expected cross-entropy loss of about 0.66. \n",
    " - correct prediction probability = $0.25 \\times (0.5 + 1.0 + 0.75 + 0.75) = 0.625$\n",
    "- If the network learns only the first dependency (3 steps back) but not the second dependency, it will correctly assign a probability of 87.5%, 50% of the time, and correctly assign a probability of 62.5% the other 50% of the time, for an expected cross entropy loss of about 0.52.\n",
    " - for $p(X_{t-3} = 0) = 0.5$, correct prediction probability = $0.5 \\times (0.5 + 0.75) = 0.625$\n",
    " - for $p(X_{t-3} = 1) = 0.5$, correct prediction probability = $0.5 \\times (1.0 + 0.75) = 0.875$\n",
    "- If the network learns both dependencies, it will be 100% accurate 25% of the time, correctly assign a probability of 50%, 25% of the time, and correctly assign a probability of 75%, 50% of the time, for an expected cross extropy loss of about 0.45.\n",
    " - for $p(X_{t-3} = 0, X_{t-8} = 0) = 0.25$, correct prediction probability = 0.5\n",
    " - for $p(X_{t-3} = 1, X_{t-8} = 0) = 0.25$, correct prediction probability = 1.0\n",
    " - for $p(X_{t-3} = 0, X_{t-8} = 1) = 0.25$, correct prediction probability = 0.75\n",
    " - for $p(X_{t-3} = 1, X_{t-8} = 1) = 0.25$, correct prediction probability = 0.75\n",
    "\n",
    "Here are the calculations:"
   ]
  },
  {
   "cell_type": "code",
   "execution_count": 1,
   "metadata": {
    "collapsed": false
   },
   "outputs": [
    {
     "name": "stdout",
     "output_type": "stream",
     "text": [
      "Expected cross entropy loss if the model:\n",
      "- learns neither dependency: 0.661563238158\n",
      "- learns first dependency:   0.519166699707\n",
      "- learns both dependencies:  0.454454367449\n"
     ]
    }
   ],
   "source": [
    "import numpy as np\n",
    "\n",
    "print(\"Expected cross entropy loss if the model:\")\n",
    "print(\"- learns neither dependency:\", -(0.625 * np.log(0.625) +\n",
    "                                      0.375 * np.log(0.375)))\n",
    "# Learns first dependency only ==> 0.51916669970720941\n",
    "print(\"- learns first dependency:  \",\n",
    "      -0.5 * (0.875 * np.log(0.875) + 0.125 * np.log(0.125))\n",
    "      -0.5 * (0.625 * np.log(0.625) + 0.375 * np.log(0.375)))\n",
    "print(\"- learns both dependencies: \", -0.50 * (0.75 * np.log(0.75) + 0.25 * np.log(0.25))\n",
    "      - 0.25 * (2 * 0.50 * np.log (0.50)) - 0.25 * (0))"
   ]
  }
 ],
 "metadata": {
  "kernelspec": {
   "display_name": "Python [conda root]",
   "language": "python",
   "name": "conda-root-py"
  },
  "language_info": {
   "codemirror_mode": {
    "name": "ipython",
    "version": 3
   },
   "file_extension": ".py",
   "mimetype": "text/x-python",
   "name": "python",
   "nbconvert_exporter": "python",
   "pygments_lexer": "ipython3",
   "version": "3.5.2"
  }
 },
 "nbformat": 4,
 "nbformat_minor": 2
}
