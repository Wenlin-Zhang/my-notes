{
 "cells": [
  {
   "cell_type": "markdown",
   "metadata": {},
   "source": [
    "# Object Detection"
   ]
  },
  {
   "cell_type": "markdown",
   "metadata": {},
   "source": [
    "# 1. 重要概念"
   ]
  },
  {
   "cell_type": "markdown",
   "metadata": {},
   "source": [
    "## 1.1 IOU, jaccard overlap\n",
    "\n",
    "$IoU = \\frac{A \\bigcap B}{A \\bigcup B}$"
   ]
  },
  {
   "cell_type": "markdown",
   "metadata": {},
   "source": [
    "## 1.2 Smooth L1 loss for predict bbox and true bbox\n",
    "\n",
    "From Fast-RCNN:\n",
    "\n",
    "$$\n",
    "smooth_{L_1}(x)=\n",
    "\\left\\{\\begin{matrix}\n",
    "  0.5x^2  & if |x|<1\\\\ \n",
    "  |x-0.5| & otherwise\n",
    "\\end{matrix}\n",
    "\\right.\n",
    "$$\n",
    "\n",
    "$$\n",
    "L_{loc}(t,v)=\\sum_{i \\in \\{x, y, w, h\\}} smooth_{L_1}(t_i - v_i)\n",
    "$$"
   ]
  },
  {
   "cell_type": "markdown",
   "metadata": {},
   "source": [
    "## 1.3 非最大抑制（non maximum suppression, NMS）\n",
    "\n",
    "非极大值抑制，用来抑制检测出来的那些冗余的框，抑制的过程是一个迭代-遍历-消除的过程。\n",
    "\n",
    "（1）将所有框的得分排序，选中最高分及其对应的框；\n",
    "\n",
    "（2）遍历其余的框，如果和当前最高分框的重叠面积(IOU)大于一定阈值，我们就将框删除；\n",
    "\n",
    "（3）从未处理的框中继续选一个得分最高的，重复上述过程。\n",
    "\n",
    "参考：http://blog.csdn.net/shuzfan/article/details/52711706\n"
   ]
  }
 ],
 "metadata": {
  "kernelspec": {
   "display_name": "Python [default]",
   "language": "python",
   "name": "python3"
  },
  "language_info": {
   "codemirror_mode": {
    "name": "ipython",
    "version": 3
   },
   "file_extension": ".py",
   "mimetype": "text/x-python",
   "name": "python",
   "nbconvert_exporter": "python",
   "pygments_lexer": "ipython3",
   "version": "3.5.2"
  }
 },
 "nbformat": 4,
 "nbformat_minor": 2
}
