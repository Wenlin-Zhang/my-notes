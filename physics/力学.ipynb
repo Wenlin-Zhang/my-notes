{
 "cells": [
  {
   "cell_type": "markdown",
   "metadata": {},
   "source": [
    "# 力学基本定律\n",
    "\n",
    "## 平面运动力学\n",
    "\n",
    "1. 位置矢量$x$, 速度矢量$v=\\frac{dx}{dt}$, 加速度矢量$a=\\frac{dv}{dt}$\n",
    "\n",
    "2. 力$F=ma$\n",
    "\n",
    "3. 动量: $P=mv$\n",
    "\n",
    "4. 动量定理：$\\frac{dP}{dt}=m\\frac{dv}{dt}=ma=F$\n",
    "\n",
    "## 转动力学\n",
    "\n",
    "1. 角度$\\theta$, 角速度$\\omega=\\frac{d\\theta}{dt}$, 角加速度$\\beta=\\frac{d\\omega}{dt}$\n",
    "\n",
    "2. 从转动支点到质点的矢量定义为$r$\n",
    "\n",
    "2. 力矩$M=r\\times F$\n",
    "\n",
    "2. 角动量$L=r\\times P$\n",
    "\n",
    "3. 角动量定理:\n",
    "$\\frac{dL}{dt}=\\frac{dr}{dt}\\times P+r\\times \\frac{dP}{dt} = v \\times P + r \\times F = r \\times F = M$\n",
    "\n",
    "## 刚体力学\n",
    "\n",
    "1. 力矩$M=r\\times F = I \\beta$，其中$I$为转动惯量\n",
    "2. 转动惯量$I=\\sum_i{m_i r_i^2}$，其中$m_i$是组成刚体的第$i$个质点;转动惯量与平动中物体的质量类似。\n",
    "3. 因此,角动量$L= I \\omega$"
   ]
  }
 ],
 "metadata": {
  "kernelspec": {
   "display_name": "Python [default]",
   "language": "python",
   "name": "python3"
  },
  "language_info": {
   "codemirror_mode": {
    "name": "ipython",
    "version": 3
   },
   "file_extension": ".py",
   "mimetype": "text/x-python",
   "name": "python",
   "nbconvert_exporter": "python",
   "pygments_lexer": "ipython3",
   "version": "3.5.2"
  }
 },
 "nbformat": 4,
 "nbformat_minor": 2
}
